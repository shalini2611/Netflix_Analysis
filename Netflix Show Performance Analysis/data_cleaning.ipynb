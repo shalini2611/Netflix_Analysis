{
 "cells": [
  {
   "cell_type": "code",
   "execution_count": 1,
   "metadata": {},
   "outputs": [],
   "source": [
    "import pandas as pd"
   ]
  },
  {
   "cell_type": "code",
   "execution_count": 2,
   "metadata": {},
   "outputs": [
    {
     "data": {
      "text/html": [
       "<div>\n",
       "<style scoped>\n",
       "    .dataframe tbody tr th:only-of-type {\n",
       "        vertical-align: middle;\n",
       "    }\n",
       "\n",
       "    .dataframe tbody tr th {\n",
       "        vertical-align: top;\n",
       "    }\n",
       "\n",
       "    .dataframe thead th {\n",
       "        text-align: right;\n",
       "    }\n",
       "</style>\n",
       "<table border=\"1\" class=\"dataframe\">\n",
       "  <thead>\n",
       "    <tr style=\"text-align: right;\">\n",
       "      <th></th>\n",
       "      <th>title</th>\n",
       "      <th>type</th>\n",
       "      <th>genres</th>\n",
       "      <th>releaseYear</th>\n",
       "      <th>imdbId</th>\n",
       "      <th>imdbAverageRating</th>\n",
       "      <th>imdbNumVotes</th>\n",
       "      <th>availableCountries</th>\n",
       "    </tr>\n",
       "  </thead>\n",
       "  <tbody>\n",
       "    <tr>\n",
       "      <th>0</th>\n",
       "      <td>Ariel</td>\n",
       "      <td>movie</td>\n",
       "      <td>Comedy, Crime, Romance</td>\n",
       "      <td>1988.0</td>\n",
       "      <td>tt0094675</td>\n",
       "      <td>7.4</td>\n",
       "      <td>9068.0</td>\n",
       "      <td>NaN</td>\n",
       "    </tr>\n",
       "    <tr>\n",
       "      <th>1</th>\n",
       "      <td>Shadows in Paradise</td>\n",
       "      <td>movie</td>\n",
       "      <td>Comedy, Drama, Music</td>\n",
       "      <td>1986.0</td>\n",
       "      <td>tt0092149</td>\n",
       "      <td>7.4</td>\n",
       "      <td>7876.0</td>\n",
       "      <td>NaN</td>\n",
       "    </tr>\n",
       "    <tr>\n",
       "      <th>2</th>\n",
       "      <td>Forrest Gump</td>\n",
       "      <td>movie</td>\n",
       "      <td>Drama, Romance</td>\n",
       "      <td>1994.0</td>\n",
       "      <td>tt0109830</td>\n",
       "      <td>8.8</td>\n",
       "      <td>2364361.0</td>\n",
       "      <td>NaN</td>\n",
       "    </tr>\n",
       "    <tr>\n",
       "      <th>3</th>\n",
       "      <td>American Beauty</td>\n",
       "      <td>movie</td>\n",
       "      <td>Drama</td>\n",
       "      <td>1999.0</td>\n",
       "      <td>tt0169547</td>\n",
       "      <td>8.3</td>\n",
       "      <td>1244684.0</td>\n",
       "      <td>NaN</td>\n",
       "    </tr>\n",
       "    <tr>\n",
       "      <th>4</th>\n",
       "      <td>The Fifth Element</td>\n",
       "      <td>movie</td>\n",
       "      <td>Action, Adventure, Sci-Fi</td>\n",
       "      <td>1997.0</td>\n",
       "      <td>tt0119116</td>\n",
       "      <td>7.6</td>\n",
       "      <td>524602.0</td>\n",
       "      <td>NaN</td>\n",
       "    </tr>\n",
       "  </tbody>\n",
       "</table>\n",
       "</div>"
      ],
      "text/plain": [
       "                 title   type                     genres  releaseYear  \\\n",
       "0                Ariel  movie     Comedy, Crime, Romance       1988.0   \n",
       "1  Shadows in Paradise  movie       Comedy, Drama, Music       1986.0   \n",
       "2         Forrest Gump  movie             Drama, Romance       1994.0   \n",
       "3      American Beauty  movie                      Drama       1999.0   \n",
       "4    The Fifth Element  movie  Action, Adventure, Sci-Fi       1997.0   \n",
       "\n",
       "      imdbId  imdbAverageRating  imdbNumVotes availableCountries  \n",
       "0  tt0094675                7.4        9068.0                NaN  \n",
       "1  tt0092149                7.4        7876.0                NaN  \n",
       "2  tt0109830                8.8     2364361.0                NaN  \n",
       "3  tt0169547                8.3     1244684.0                NaN  \n",
       "4  tt0119116                7.6      524602.0                NaN  "
      ]
     },
     "execution_count": 2,
     "metadata": {},
     "output_type": "execute_result"
    }
   ],
   "source": [
    "df=pd.read_csv(\"data.csv\")\n",
    "df.head()"
   ]
  },
  {
   "cell_type": "code",
   "execution_count": 3,
   "metadata": {},
   "outputs": [
    {
     "name": "stdout",
     "output_type": "stream",
     "text": [
      "Rows: 21222\n",
      "Column: 8\n"
     ]
    }
   ],
   "source": [
    "print(\"Rows:\",df.shape[0])\n",
    "print(\"Column:\",df.shape[1])"
   ]
  },
  {
   "cell_type": "code",
   "execution_count": 4,
   "metadata": {},
   "outputs": [
    {
     "name": "stdout",
     "output_type": "stream",
     "text": [
      "<bound method DataFrame.info of                                  title   type                        genres  \\\n",
      "0                                Ariel  movie        Comedy, Crime, Romance   \n",
      "1                  Shadows in Paradise  movie          Comedy, Drama, Music   \n",
      "2                         Forrest Gump  movie                Drama, Romance   \n",
      "3                      American Beauty  movie                         Drama   \n",
      "4                    The Fifth Element  movie     Action, Adventure, Sci-Fi   \n",
      "...                                ...    ...                           ...   \n",
      "21217                              NaN     tv             Animation, Comedy   \n",
      "21218  Bleach: Thousand-Year Blood War     tv  Action, Adventure, Animation   \n",
      "21219                              NaN     tv                       Reality   \n",
      "21220                              NaN     tv                       Reality   \n",
      "21221              Malam Bertemu Subuh     tv                Drama, Romance   \n",
      "\n",
      "       releaseYear      imdbId  imdbAverageRating  imdbNumVotes  \\\n",
      "0           1988.0   tt0094675                7.4        9068.0   \n",
      "1           1986.0   tt0092149                7.4        7876.0   \n",
      "2           1994.0   tt0109830                8.8     2364361.0   \n",
      "3           1999.0   tt0169547                8.3     1244684.0   \n",
      "4           1997.0   tt0119116                7.6      524602.0   \n",
      "...            ...         ...                ...           ...   \n",
      "21217       2023.0         NaN                NaN           NaN   \n",
      "21218       2022.0  tt14986406                9.0       59278.0   \n",
      "21219       2025.0         NaN                NaN           NaN   \n",
      "21220       2013.0         NaN                NaN           NaN   \n",
      "21221       2023.0  tt28628460                NaN           NaN   \n",
      "\n",
      "      availableCountries  \n",
      "0                    NaN  \n",
      "1                    NaN  \n",
      "2                    NaN  \n",
      "3                    NaN  \n",
      "4                    NaN  \n",
      "...                  ...  \n",
      "21217                NaN  \n",
      "21218                NaN  \n",
      "21219                NaN  \n",
      "21220                NaN  \n",
      "21221                NaN  \n",
      "\n",
      "[21222 rows x 8 columns]>\n"
     ]
    }
   ],
   "source": [
    "print(df.info)"
   ]
  },
  {
   "cell_type": "code",
   "execution_count": 5,
   "metadata": {},
   "outputs": [
    {
     "name": "stdout",
     "output_type": "stream",
     "text": [
      "title                   694\n",
      "type                      0\n",
      "genres                  365\n",
      "releaseYear              39\n",
      "imdbId                 1580\n",
      "imdbAverageRating      1766\n",
      "imdbNumVotes           1766\n",
      "availableCountries    21061\n",
      "dtype: int64\n"
     ]
    }
   ],
   "source": [
    "print(df.isnull().sum())"
   ]
  },
  {
   "cell_type": "code",
   "execution_count": 6,
   "metadata": {},
   "outputs": [],
   "source": [
    "df.drop(columns=['availableCountries'],inplace=True)"
   ]
  },
  {
   "cell_type": "code",
   "execution_count": 8,
   "metadata": {},
   "outputs": [],
   "source": [
    "#filling the missing value in imdbAverageRating and imdbNumVotes with median\n",
    "df['imdbAverageRating']=df['imdbAverageRating'].fillna(df['imdbAverageRating'].median())\n",
    "df['imdbNumVotes']=df['imdbNumVotes'].fillna(df['imdbNumVotes'].median())\n"
   ]
  },
  {
   "cell_type": "code",
   "execution_count": 9,
   "metadata": {},
   "outputs": [],
   "source": [
    "df['releaseYear'] = df['releaseYear'].fillna(df['releaseYear'].median()).astype(int)\n"
   ]
  },
  {
   "cell_type": "code",
   "execution_count": 10,
   "metadata": {},
   "outputs": [],
   "source": [
    "df.drop_duplicates(inplace=True)\n"
   ]
  },
  {
   "cell_type": "code",
   "execution_count": 11,
   "metadata": {},
   "outputs": [
    {
     "name": "stdout",
     "output_type": "stream",
     "text": [
      "<class 'pandas.core.frame.DataFrame'>\n",
      "Index: 20805 entries, 0 to 21221\n",
      "Data columns (total 7 columns):\n",
      " #   Column             Non-Null Count  Dtype  \n",
      "---  ------             --------------  -----  \n",
      " 0   title              20527 non-null  object \n",
      " 1   type               20805 non-null  object \n",
      " 2   genres             20609 non-null  object \n",
      " 3   releaseYear        20805 non-null  int64  \n",
      " 4   imdbId             19641 non-null  object \n",
      " 5   imdbAverageRating  20805 non-null  float64\n",
      " 6   imdbNumVotes       20805 non-null  float64\n",
      "dtypes: float64(2), int64(1), object(4)\n",
      "memory usage: 1.3+ MB\n",
      "None\n",
      "title                 278\n",
      "type                    0\n",
      "genres                196\n",
      "releaseYear             0\n",
      "imdbId               1164\n",
      "imdbAverageRating       0\n",
      "imdbNumVotes            0\n",
      "dtype: int64\n"
     ]
    }
   ],
   "source": [
    "print(df.info())  \n",
    "print(df.isnull().sum())  # Ensure no missing values remain\n"
   ]
  },
  {
   "cell_type": "code",
   "execution_count": 12,
   "metadata": {},
   "outputs": [],
   "source": [
    "df.to_csv(\"cleaned_netflix_data.csv\", index=False)\n"
   ]
  }
 ],
 "metadata": {
  "kernelspec": {
   "display_name": "Python 3",
   "language": "python",
   "name": "python3"
  },
  "language_info": {
   "codemirror_mode": {
    "name": "ipython",
    "version": 3
   },
   "file_extension": ".py",
   "mimetype": "text/x-python",
   "name": "python",
   "nbconvert_exporter": "python",
   "pygments_lexer": "ipython3",
   "version": "3.13.0"
  }
 },
 "nbformat": 4,
 "nbformat_minor": 2
}
