{
 "cells": [
  {
   "cell_type": "markdown",
   "metadata": {},
   "source": [
    "## 📌 Key Insights & Conclusion\n"
   ]
  },
  {
   "cell_type": "code",
   "execution_count": null,
   "metadata": {},
   "outputs": [
    {
     "name": "stdout",
     "output_type": "stream",
     "text": [
      " Key Insights:\n",
      "1 Netflix has more Movies than TV Shows.\n",
      "2 Top most genres: Comedy,Drama,Documentry\n",
      "3 Peak release year: 2022.\n",
      "4 Average IMDb Rating: 7.2.\n",
      "5 Highest rated content on Netflix is 'Mysterious murder' with [9.8] imdb rate.\n",
      "6 The most popular show (highest votes) is 'The Shawshank Redemption' with [3024713] votes.\n"
     ]
    }
   ],
   "source": [
    "print(\" Key Insights:\")\n",
    "print(\"1 Netflix has more Movies than TV Shows.\")\n",
    "print(\"2 Top most genres: Comedy,Drama,Documentry\")\n",
    "print(\"3 Peak release year: 2022.\")\n",
    "print(\"4 Average IMDb Rating: 6.4\")\n",
    "print(\"5 Highest rated content on Netflix is 'Mysterious murder' with [9.8] imdb rate.\")\n",
    "print(\"6 The most popular show (highest votes) is 'The Shawshank Redemption' with [3024713] votes.\")\n",
    "\n"
   ]
  }
 ],
 "metadata": {
  "kernelspec": {
   "display_name": "Python 3",
   "language": "python",
   "name": "python3"
  },
  "language_info": {
   "codemirror_mode": {
    "name": "ipython",
    "version": 3
   },
   "file_extension": ".py",
   "mimetype": "text/x-python",
   "name": "python",
   "nbconvert_exporter": "python",
   "pygments_lexer": "ipython3",
   "version": "3.13.0"
  }
 },
 "nbformat": 4,
 "nbformat_minor": 2
}
